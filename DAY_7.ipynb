{
  "nbformat": 4,
  "nbformat_minor": 0,
  "metadata": {
    "colab": {
      "name": "DAY 7 ",
      "provenance": [],
      "collapsed_sections": []
    },
    "kernelspec": {
      "name": "python3",
      "display_name": "Python 3"
    }
  },
  "cells": [
    {
      "cell_type": "markdown",
      "metadata": {
        "id": "ToTnsLQNf8y3",
        "colab_type": "text"
      },
      "source": [
        "# QUESTION 1\n"
      ]
    },
    {
      "cell_type": "code",
      "metadata": {
        "id": "9DdATmjYKM3l",
        "colab_type": "code",
        "colab": {
          "base_uri": "https://localhost:8080/",
          "height": 52
        },
        "outputId": "697b86de-a42e-4755-f99b-ca32cded565f"
      },
      "source": [
        "try:\n",
        "    print(10/0)\n",
        "except :\n",
        "    print(\"There is an error\")\n",
        "    \n",
        "print(\"hi\")\n",
        "\n"
      ],
      "execution_count": null,
      "outputs": [
        {
          "output_type": "stream",
          "text": [
            "There is an error\n",
            "hi\n"
          ],
          "name": "stdout"
        }
      ]
    },
    {
      "cell_type": "code",
      "metadata": {
        "id": "MPD6__q9iVOz",
        "colab_type": "code",
        "colab": {
          "base_uri": "https://localhost:8080/",
          "height": 201
        },
        "outputId": "ed4ae0c0-61cc-432c-823b-8447f89e706b"
      },
      "source": [
        "file = open(\"fcs.txt\",\"r\")\n",
        "file.write(\"Hey we are loving the class\")\n",
        "file.close()"
      ],
      "execution_count": null,
      "outputs": [
        {
          "output_type": "error",
          "ename": "FileNotFoundError",
          "evalue": "ignored",
          "traceback": [
            "\u001b[0;31m---------------------------------------------------------------------------\u001b[0m",
            "\u001b[0;31mFileNotFoundError\u001b[0m                         Traceback (most recent call last)",
            "\u001b[0;32m<ipython-input-3-81c5220c4275>\u001b[0m in \u001b[0;36m<module>\u001b[0;34m()\u001b[0m\n\u001b[0;32m----> 1\u001b[0;31m \u001b[0mfile\u001b[0m \u001b[0;34m=\u001b[0m \u001b[0mopen\u001b[0m\u001b[0;34m(\u001b[0m\u001b[0;34m\"fcs.txt\"\u001b[0m\u001b[0;34m,\u001b[0m\u001b[0;34m\"r\"\u001b[0m\u001b[0;34m)\u001b[0m\u001b[0;34m\u001b[0m\u001b[0;34m\u001b[0m\u001b[0m\n\u001b[0m\u001b[1;32m      2\u001b[0m \u001b[0mfile\u001b[0m\u001b[0;34m.\u001b[0m\u001b[0mwrite\u001b[0m\u001b[0;34m(\u001b[0m\u001b[0;34m\"Hey we are loving the class\"\u001b[0m\u001b[0;34m)\u001b[0m\u001b[0;34m\u001b[0m\u001b[0;34m\u001b[0m\u001b[0m\n\u001b[1;32m      3\u001b[0m \u001b[0mfile\u001b[0m\u001b[0;34m.\u001b[0m\u001b[0mclose\u001b[0m\u001b[0;34m(\u001b[0m\u001b[0;34m)\u001b[0m\u001b[0;34m\u001b[0m\u001b[0;34m\u001b[0m\u001b[0m\n",
            "\u001b[0;31mFileNotFoundError\u001b[0m: [Errno 2] No such file or directory: 'fcs.txt'"
          ]
        }
      ]
    },
    {
      "cell_type": "code",
      "metadata": {
        "id": "KRnMevkfie6i",
        "colab_type": "code",
        "colab": {
          "base_uri": "https://localhost:8080/",
          "height": 52
        },
        "outputId": "8019f989-beaf-4d3d-c3e4-0298b6c87e9c"
      },
      "source": [
        "try:\n",
        "    file = open(\"fcs.txt\",\"r\")\n",
        "    file.write(\"Hey we are loving the class\")\n",
        "    file.close()\n",
        "    print(\"try is working fine\")\n",
        "    \n",
        "except OSError:\n",
        "    print(\"File mode is differnt\")\n",
        "\n",
        "finally:\n",
        "    print(\"I am Finally : I will print no matter who wins in my above brothers\")"
      ],
      "execution_count": null,
      "outputs": [
        {
          "output_type": "stream",
          "text": [
            "File mode is differnt\n",
            "I am Finally : I will print no matter who wins in my above brothers\n"
          ],
          "name": "stdout"
        }
      ]
    },
    {
      "cell_type": "code",
      "metadata": {
        "id": "rAIWYxbvivuJ",
        "colab_type": "code",
        "colab": {
          "base_uri": "https://localhost:8080/",
          "height": 52
        },
        "outputId": "8a2e8b36-e244-45a9-9519-f8cf23554ab5"
      },
      "source": [
        "try:\n",
        "    raise NameError(\"Hi there\")  # Raise Error \n",
        "    print(\"if all have submitted there assignmets \")\n",
        "    \n",
        "except :\n",
        "    print(\"Ask everyone to submit there assignemnts\")\n",
        "else:\n",
        "    print(\"please check them - logic realted to check the assignments\")\n",
        "finally:\n",
        "    print(\"Sai has to end the batch regardless of assignments submission\")"
      ],
      "execution_count": null,
      "outputs": [
        {
          "output_type": "stream",
          "text": [
            "Ask everyone to submit there assignemnts\n",
            "Sai has to end the batch regardless of assignments submission\n"
          ],
          "name": "stdout"
        }
      ]
    },
    {
      "cell_type": "code",
      "metadata": {
        "id": "pylCh4Xbiv-y",
        "colab_type": "code",
        "colab": {
          "base_uri": "https://localhost:8080/",
          "height": 52
        },
        "outputId": "9c5d7dfd-f7f5-4c52-83ee-b04c2f9bc876"
      },
      "source": [
        "try:\n",
        "    file = open(\"fcs.txt\",\"r\")\n",
        "    file.write(\"Hey we are loving the class\")\n",
        "    file.close()\n",
        "    print(\"try is working fine\")\n",
        "    \n",
        "except Exception as e:\n",
        "    print(\"Your Error - \", e)\n",
        "else:\n",
        "    print(\"I am else block \")\n",
        "finally:\n",
        "    print(\"I am Finally : I will print no matter who wins in my above brothers\")"
      ],
      "execution_count": null,
      "outputs": [
        {
          "output_type": "stream",
          "text": [
            "Your Error -  [Errno 2] No such file or directory: 'fcs.txt'\n",
            "I am Finally : I will print no matter who wins in my above brothers\n"
          ],
          "name": "stdout"
        }
      ]
    },
    {
      "cell_type": "markdown",
      "metadata": {
        "id": "L4tXK7R4jH_Z",
        "colab_type": "text"
      },
      "source": [
        "# UNIT TESTING"
      ]
    },
    {
      "cell_type": "code",
      "metadata": {
        "id": "gRJrJ9l4iZCt",
        "colab_type": "code",
        "colab": {}
      },
      "source": [
        "def ask_input():\n",
        "    number = \"\"\n",
        "    while True:\n",
        "        try:\n",
        "            number = int(input(\"Enter a Number - \"))\n",
        "        except:\n",
        "            print(\"Enter a Number not a Char\")\n",
        "            continue\n",
        "        else:\n",
        "            print(\"Thank you we got a number\")\n",
        "            break\n",
        "        finally:\n",
        "            print(\"Number = \",number)"
      ],
      "execution_count": null,
      "outputs": []
    },
    {
      "cell_type": "code",
      "metadata": {
        "id": "A8j4cNNqi-UQ",
        "colab_type": "code",
        "colab": {
          "base_uri": "https://localhost:8080/",
          "height": 121
        },
        "outputId": "c2923dbf-4b85-4b50-d45f-add47bc3901d"
      },
      "source": [
        "ask_input()"
      ],
      "execution_count": null,
      "outputs": [
        {
          "output_type": "stream",
          "text": [
            "Enter a Number - V\n",
            "Enter a Number not a Char\n",
            "Number =  \n",
            "Enter a Number - 45\n",
            "Thank you we got a number\n",
            "Number =  45\n"
          ],
          "name": "stdout"
        }
      ]
    },
    {
      "cell_type": "code",
      "metadata": {
        "id": "piBLCaG8i_vD",
        "colab_type": "code",
        "colab": {}
      },
      "source": [
        ""
      ],
      "execution_count": null,
      "outputs": []
    }
  ]
}