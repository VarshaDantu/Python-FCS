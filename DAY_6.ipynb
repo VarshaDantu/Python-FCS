{
  "nbformat": 4,
  "nbformat_minor": 0,
  "metadata": {
    "colab": {
      "name": "DAY 6",
      "provenance": []
    },
    "kernelspec": {
      "name": "python3",
      "display_name": "Python 3"
    }
  },
  "cells": [
    {
      "cell_type": "markdown",
      "metadata": {
        "id": "PaXVnRMETMxA",
        "colab_type": "text"
      },
      "source": [
        "# QUESTION 1"
      ]
    },
    {
      "cell_type": "code",
      "metadata": {
        "id": "g9J29JbkTHZw",
        "colab_type": "code",
        "colab": {
          "base_uri": "https://localhost:8080/",
          "height": 191
        },
        "outputId": "1d88b40f-9ca0-4281-c780-c304022b0a3c"
      },
      "source": [
        "class Bank_Account: \n",
        "    def __init__(self):\n",
        "        print(\"Owners Name is XYZ\")\n",
        "        self.balance=100000\n",
        "        print(\"Hello!!!  XYZ Welcome to the Deposit & Withdrawal Machine\") \n",
        "  \n",
        "    def deposit(self): \n",
        "        amount=float(input(\"Enter amount to be Deposited: \")) \n",
        "        self.balance += amount \n",
        "        print(\"\\n Amount Deposited:\",amount) \n",
        "  \n",
        "    def withdraw(self): \n",
        "        amount = float(input(\"Enter amount to be Withdrawn: \")) \n",
        "        if self.balance>=amount: \n",
        "            self.balance-=amount \n",
        "            print(\"\\n You Withdrew:\", amount) \n",
        "        else: \n",
        "            print(\"\\n Insufficient balance  \") \n",
        "  \n",
        "    def display(self): \n",
        "        print(\"\\n Net Available Balance=\",self.balance) \n",
        "s = Bank_Account()\n",
        "s.deposit() \n",
        "s.withdraw() \n",
        "s.display()"
      ],
      "execution_count": null,
      "outputs": [
        {
          "output_type": "stream",
          "text": [
            "Owners Name is XYZ\n",
            "Hello!!!  XYZ Welcome to the Deposit & Withdrawal Machine\n",
            "Enter amount to be Deposited: 10\n",
            "\n",
            " Amount Deposited: 10.0\n",
            "Enter amount to be Withdrawn: 1000000\n",
            "\n",
            " Insufficient balance  \n",
            "\n",
            " Net Available Balance= 100010.0\n"
          ],
          "name": "stdout"
        }
      ]
    },
    {
      "cell_type": "markdown",
      "metadata": {
        "id": "Cvs-aHn2ZMvr",
        "colab_type": "text"
      },
      "source": [
        "# QUESTION 2"
      ]
    },
    {
      "cell_type": "code",
      "metadata": {
        "id": "mYQzzLJGVnGB",
        "colab_type": "code",
        "colab": {
          "base_uri": "https://localhost:8080/",
          "height": 87
        },
        "outputId": "2e483862-9884-4f95-b197-57bc6e05197c"
      },
      "source": [
        "import math \n",
        "pi = math.pi \n",
        "sqrt = math.sqrt\n",
        "def volume(r, h): \n",
        "    return (1 / 3) * pi * r * r * h\n",
        "def surfacearea(r, h): \n",
        "    return pi * r * (r + sqrt(h * h + r * r))\n",
        "r = float(input(\"Enter the radius of the Cone:\")) \n",
        "h = float(input(\"Enter the height of the Cone:\")) \n",
        "print(\"The Volume of the cone is:\",volume(r, h))\n",
        "print(\"The SurfaceArea of the cone is:\",surfacearea(r, h))\n"
      ],
      "execution_count": null,
      "outputs": [
        {
          "output_type": "stream",
          "text": [
            "Enter the radius of the Cone:10\n",
            "Enter the height of the Cone:15\n",
            "The Volume of the cone is: 1570.7963267948965\n",
            "The SurfaceArea of the cone is: 880.5179353159282\n"
          ],
          "name": "stdout"
        }
      ]
    }
  ]
}