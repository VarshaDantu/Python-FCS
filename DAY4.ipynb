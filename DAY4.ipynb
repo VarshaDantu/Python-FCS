{
  "nbformat": 4,
  "nbformat_minor": 0,
  "metadata": {
    "colab": {
      "name": "DAY4",
      "provenance": []
    },
    "kernelspec": {
      "name": "python3",
      "display_name": "Python 3"
    }
  },
  "cells": [
    {
      "cell_type": "markdown",
      "metadata": {
        "id": "-HWpEL80-jwn",
        "colab_type": "text"
      },
      "source": [
        "# ASSIGNMENT 1"
      ]
    },
    {
      "cell_type": "code",
      "metadata": {
        "id": "hlkdpVzQaoGV",
        "colab_type": "code",
        "colab": {
          "base_uri": "https://localhost:8080/",
          "height": 35
        },
        "outputId": "9a774dd6-55ac-412a-ce2c-9cae88b2c002"
      },
      "source": [
        "lstx = [ 1, 5, 6, 4, 1, 2, 3, 5]\n",
        "sublst = [ 1, 1, 5]\n",
        "for item in lstx :\n",
        "  if item == sublst[0] :\n",
        "    sublst.pop(0)\n",
        "if len(sublst) == 0 :\n",
        "  print(\"It's a Match\")\n",
        "else :\n",
        "  print(\"It's Gone\")"
      ],
      "execution_count": null,
      "outputs": [
        {
          "output_type": "stream",
          "text": [
            "It's a Match\n"
          ],
          "name": "stdout"
        }
      ]
    },
    {
      "cell_type": "markdown",
      "metadata": {
        "id": "JgPfqPlAHDXY",
        "colab_type": "text"
      },
      "source": [
        "# ASSIGNMENT 2"
      ]
    },
    {
      "cell_type": "code",
      "metadata": {
        "id": "mWF86t5lHG7r",
        "colab_type": "code",
        "colab": {}
      },
      "source": [
        "def calculator(a,b,op):\n",
        "  if op == '+' :\n",
        "    return a + b\n",
        "  elif op == '-' :\n",
        "    return a - b\n",
        "  elif op == '*' :\n",
        "    return a * b\n",
        "  elif op == '/' :\n",
        "    return a / b\n",
        "  else :\n",
        "    print(\"Give correct operand: '+','-','*','/'\")\n",
        "  "
      ],
      "execution_count": null,
      "outputs": []
    },
    {
      "cell_type": "code",
      "metadata": {
        "id": "G_2yY2fkNbH6",
        "colab_type": "code",
        "colab": {
          "base_uri": "https://localhost:8080/",
          "height": 35
        },
        "outputId": "07e544d3-ceca-40e4-f2e5-2c5c58280bdb"
      },
      "source": [
        "calculator(5,10,'*')"
      ],
      "execution_count": null,
      "outputs": [
        {
          "output_type": "execute_result",
          "data": {
            "text/plain": [
              "50"
            ]
          },
          "metadata": {
            "tags": []
          },
          "execution_count": 2
        }
      ]
    },
    {
      "cell_type": "code",
      "metadata": {
        "id": "ks6ja4LCNgp0",
        "colab_type": "code",
        "colab": {}
      },
      "source": [
        ""
      ],
      "execution_count": null,
      "outputs": []
    }
  ]
}