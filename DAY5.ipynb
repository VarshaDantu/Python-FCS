{
  "nbformat": 4,
  "nbformat_minor": 0,
  "metadata": {
    "colab": {
      "name": "DAY5",
      "provenance": []
    },
    "kernelspec": {
      "name": "python3",
      "display_name": "Python 3"
    }
  },
  "cells": [
    {
      "cell_type": "markdown",
      "metadata": {
        "id": "mq-egTvcElDx",
        "colab_type": "text"
      },
      "source": [
        "# WAP TO HANDLE FILE USING PYTHON SCRIPT"
      ]
    },
    {
      "cell_type": "code",
      "metadata": {
        "id": "EJT8xmkfFwg7",
        "colab_type": "code",
        "colab": {}
      },
      "source": [
        "file = open(\"Letsupgrade.txt\",\"w\")\n",
        "file.write(\"I love FCS\")\n",
        "file.close()"
      ],
      "execution_count": 1,
      "outputs": []
    },
    {
      "cell_type": "code",
      "metadata": {
        "id": "jKWcPfTUVZX3",
        "colab_type": "code",
        "colab": {
          "base_uri": "https://localhost:8080/",
          "height": 35
        },
        "outputId": "777c1dca-e6da-4e02-a32a-398861c6baf2"
      },
      "source": [
        "file = open(\"Letsupgrade.txt\",\"r\")\n",
        "text = file.read()\n",
        "print(text)\n",
        "file.close()"
      ],
      "execution_count": null,
      "outputs": [
        {
          "output_type": "stream",
          "text": [
            "I love FCS\n"
          ],
          "name": "stdout"
        }
      ]
    }
  ]
}