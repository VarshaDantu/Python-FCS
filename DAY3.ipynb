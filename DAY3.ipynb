{
  "nbformat": 4,
  "nbformat_minor": 0,
  "metadata": {
    "colab": {
      "name": "DAY3",
      "provenance": [],
      "collapsed_sections": [],
      "toc_visible": true
    },
    "kernelspec": {
      "name": "python3",
      "display_name": "Python 3"
    }
  },
  "cells": [
    {
      "cell_type": "markdown",
      "metadata": {
        "id": "mt0d4Bx_fPUV",
        "colab_type": "text"
      },
      "source": [
        "#ASSIGNMENT 1\n",
        "##Write a program taking one number a input and then using if elif else concept,assign a grade to the input number form"
      ]
    },
    {
      "cell_type": "code",
      "metadata": {
        "id": "aQKR4WnvfOSN",
        "colab_type": "code",
        "colab": {
          "base_uri": "https://localhost:8080/",
          "height": 52
        },
        "outputId": "382c1840-ce3b-422b-ec55-1eb5491b7abe"
      },
      "source": [
        "num = int(input(\"Enter the score:\"))\n",
        "if (num > 89 and num<= 100) :\n",
        "  print(\"The student got 'A' Grade\")\n",
        "elif (num >79 and num <= 89) :\n",
        "  print(\"The student got 'B' Grade\")\n",
        "elif (num >69 and num <= 79) :\n",
        "  print(\"The student got 'C' Grade\")\n",
        "elif (num >59 and num <= 69) :\n",
        "  print(\"The student got 'D' Grade\")\n",
        "elif(num >45 and num <= 59) :\n",
        "  print(\"The student got 'E' Grade\")\n",
        "else :\n",
        "  print(\"The student got 'F' Grade\")\n",
        "\n"
      ],
      "execution_count": null,
      "outputs": [
        {
          "output_type": "stream",
          "text": [
            "Enter the score:97\n",
            "The student got 'A' Grade\n"
          ],
          "name": "stdout"
        }
      ]
    },
    {
      "cell_type": "markdown",
      "metadata": {
        "id": "P3zGpvM9_AuN",
        "colab_type": "text"
      },
      "source": [
        "# ASSIGNMENT 2"
      ]
    },
    {
      "cell_type": "code",
      "metadata": {
        "id": "5vRj5O7jFp2d",
        "colab_type": "code",
        "colab": {
          "base_uri": "https://localhost:8080/",
          "height": 52
        },
        "outputId": "0d8fb61e-9dc7-47ce-e976-ab9f786eb031"
      },
      "source": [
        "scr = int(input(\"Enter the score\"))\n",
        "uscr = 100\n",
        "exp = scr - uscr\n",
        "if (exp < 1 and exp > 250) :\n",
        "  print(\"REDUCE THE EXPECTATIONS FOR 20-20\")\n",
        "elif(exp < 10) :\n",
        "  print(\"CLOSE BY,YOU ARE A TRUE INDIAN FAN!\")\n",
        "else :\n",
        "  print(\"YOU ARE NOT A TRUE INDIAN FAN!\")"
      ],
      "execution_count": null,
      "outputs": [
        {
          "output_type": "stream",
          "text": [
            "Enter the score109\n",
            "CLOSE BY,YOU ARE A TRUE INDIAN FAN!\n"
          ],
          "name": "stdout"
        }
      ]
    },
    {
      "cell_type": "markdown",
      "metadata": {
        "id": "ZlM4MC_VttTG",
        "colab_type": "text"
      },
      "source": [
        "# ASSIGNMENT 3"
      ]
    },
    {
      "cell_type": "code",
      "metadata": {
        "id": "JuQ4nxsWsqth",
        "colab_type": "code",
        "colab": {
          "base_uri": "https://localhost:8080/",
          "height": 295
        },
        "outputId": "a84c0255-22ed-4f65-d651-0ec4f3b045c7"
      },
      "source": [
        "l = 360\n",
        "n = int(input(\"Enter the number of pictues Roy has:\"))\n",
        "n = range(0,n)\n",
        "for item in n:\n",
        "  w = int(input(\"Enter the width:\"))\n",
        "  h = int(input(\"Enter the height:\"))\n",
        "  if(w < l and h < l) :\n",
        "    print(\"UPLOAD ANOTHER PICTURE\")\n",
        "  elif(w == l and h == l) :\n",
        "    print(\"ACCEPTED IT\")\n",
        "  else :\n",
        "    print(\"CROP IT\")\n"
      ],
      "execution_count": null,
      "outputs": [
        {
          "output_type": "stream",
          "text": [
            "Enter the number of pictues Roy has:5\n",
            "Enter the width:200\n",
            "Enter the height:300\n",
            "UPLOAD ANOTHER PICTURE\n",
            "Enter the width:360\n",
            "Enter the height:360\n",
            "ACCEPTED IT\n",
            "Enter the width:1000\n",
            "Enter the height:2000\n",
            "CROP IT\n",
            "Enter the width:369\n",
            "Enter the height:360\n",
            "CROP IT\n",
            "Enter the width:2222\n",
            "Enter the height:3333\n",
            "CROP IT\n"
          ],
          "name": "stdout"
        }
      ]
    },
    {
      "cell_type": "markdown",
      "metadata": {
        "id": "CTB4Ri1LALlX",
        "colab_type": "text"
      },
      "source": [
        "# ASSIGNMENT 4"
      ]
    },
    {
      "cell_type": "code",
      "metadata": {
        "id": "hzo4sIUv6To3",
        "colab_type": "code",
        "colab": {
          "base_uri": "https://localhost:8080/",
          "height": 69
        },
        "outputId": "1c014079-e12f-4c61-f732-98f0d51058ad"
      },
      "source": [
        "def direction_prob() :\n",
        "  x = 0\n",
        "  y = 0\n",
        "  maze = input(\"enter dir\")\n",
        "  for item in maze :\n",
        "    if(item == 'L') :\n",
        "      x-=1\n",
        "    elif(item == 'R') :\n",
        "      x+=1\n",
        "    elif(item == 'U') :\n",
        "      y+=1\n",
        "    else :\n",
        "      y-=1\n",
        "  print(\"Akit is at\")\n",
        "  print(x,y)\n",
        "direction_prob()"
      ],
      "execution_count": null,
      "outputs": [
        {
          "output_type": "stream",
          "text": [
            "enter dirLRUD\n",
            "Akit is at\n",
            "0 0\n"
          ],
          "name": "stdout"
        }
      ]
    },
    {
      "cell_type": "code",
      "metadata": {
        "id": "rqs3tq3-Vw-V",
        "colab_type": "code",
        "colab": {}
      },
      "source": [
        ""
      ],
      "execution_count": null,
      "outputs": []
    }
  ]
}