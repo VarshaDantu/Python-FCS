{
  "nbformat": 4,
  "nbformat_minor": 0,
  "metadata": {
    "colab": {
      "name": "GOLDEN PROJECT",
      "provenance": []
    },
    "kernelspec": {
      "name": "python3",
      "display_name": "Python 3"
    }
  },
  "cells": [
    {
      "cell_type": "markdown",
      "metadata": {
        "id": "Sgq6xLyw7MR_",
        "colab_type": "text"
      },
      "source": [
        "\n",
        "# GOLDEN PROJECT\n",
        "![alt text](https://he-s3.s3.amazonaws.com/media/uploads/a2e0794.jpg)"
      ]
    },
    {
      "cell_type": "code",
      "metadata": {
        "id": "s4_fS49NN_U_",
        "colab_type": "code",
        "colab": {
          "base_uri": "https://localhost:8080/",
          "height": 208
        },
        "outputId": "3b0dea8b-bf3d-46ba-f5ec-6c5eb19382f9"
      },
      "source": [
        "T= int(input(\"Number Of Seats u want to test:\")) #T= number of test cases\n",
        "N = list() #N= seat number \n",
        "rem = 0\n",
        "while T:\n",
        "   N.append(int(input(\"Enter the seat number you want to check:\")))\n",
        "   T -=1\n",
        "print(\"WS:Window Seat\\nAS:Asile Seat\\nMS:Middle Seat\\n\")\n",
        " \n",
        "for item in range(len(N)):\n",
        "    rem = N[item]%12 #Because there are 12 seats\n",
        "    if rem == 1: \n",
        "        print ('{0} {1}'.format(N[item]+11,'WS'))\n",
        "    elif rem == 2: \n",
        "        print ('{0} {1}'.format(N[item]+9,'MS'))\n",
        "    elif rem == 3: \n",
        "        print ('{0} {1}'.format(N[item]+7,'AS'))\n",
        "    elif rem == 4: \n",
        "        print ('{0} {1}'.format(N[item]+5,'AS'))\n",
        "    elif rem == 5: \n",
        "        print ('{0} {1}'.format(N[item]+3,'MS'))\n",
        "    elif rem == 6: \n",
        "        print ('{0} {1}'.format(N[item]+1,'WS'))\n",
        "    elif rem == 7: \n",
        "        print ('{0} {1}'.format(N[item]-1,'WS'))\n",
        "    elif rem == 8: \n",
        "        print ('{0} {1}'.format(N[item]-3,'MS'))\n",
        "    elif rem == 9: \n",
        "        print ('{0} {1}'.format(N[item]-5,'AS'))\n",
        "    elif rem == 10: \n",
        "        print ('{0} {1}'.format(N[item]-7,'AS'))\n",
        "    elif rem == 11: \n",
        "        print ('{0} {1}'.format(N[item]-9,'MS'))\n",
        "    elif rem == 0: \n",
        "        print ('{0} {1}'.format(N[item]-11,'WS'))\n",
        "    rem = 0\n",
        "   "
      ],
      "execution_count": null,
      "outputs": [
        {
          "output_type": "stream",
          "text": [
            "Number Of Seats u want to test:3\n",
            "Enter the seat number you want to check:3\n",
            "Enter the seat number you want to check:106\n",
            "Enter the seat number you want to check:39\n",
            "WS:Window Seat\n",
            "AS:Asile Seat\n",
            "MS:Middle Seat\n",
            "\n",
            "10 AS\n",
            "99 AS\n",
            "46 AS\n"
          ],
          "name": "stdout"
        }
      ]
    }
  ]
}