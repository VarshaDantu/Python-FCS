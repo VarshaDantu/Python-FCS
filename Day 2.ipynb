{
  "nbformat": 4,
  "nbformat_minor": 0,
  "metadata": {
    "colab": {
      "name": "Copy of Assignment 1(Day 2)",
      "provenance": [],
      "collapsed_sections": [
        "RMWDmNRGpilO",
        "VTx7Ads4wcQL"
      ]
    },
    "kernelspec": {
      "name": "python3",
      "display_name": "Python 3"
    }
  },
  "cells": [
    {
      "cell_type": "markdown",
      "metadata": {
        "id": "RMWDmNRGpilO",
        "colab_type": "text"
      },
      "source": [
        "# 1.LISTS AND ITS DEFAULT FUNCTIONS"
      ]
    },
    {
      "cell_type": "code",
      "metadata": {
        "id": "eD7P97XvrmnS",
        "colab_type": "code",
        "colab": {}
      },
      "source": [
        "Animals = [\"Rabbit\",\"Elephant\",\"Lion\",\"Dog\"]"
      ],
      "execution_count": null,
      "outputs": []
    },
    {
      "cell_type": "code",
      "metadata": {
        "id": "z64Pp4Oosc51",
        "colab_type": "code",
        "colab": {}
      },
      "source": [
        "Animals.append(\"Cat\")"
      ],
      "execution_count": null,
      "outputs": []
    },
    {
      "cell_type": "code",
      "metadata": {
        "id": "OY4y587Es-V3",
        "colab_type": "code",
        "colab": {
          "base_uri": "https://localhost:8080/",
          "height": 35
        },
        "outputId": "3d0babe6-aaa2-4746-ea2a-62a262917463"
      },
      "source": [
        "Animals"
      ],
      "execution_count": null,
      "outputs": [
        {
          "output_type": "execute_result",
          "data": {
            "text/plain": [
              "['Rabbit', 'Elephant', 'Lion', 'Dog', 'Cat']"
            ]
          },
          "metadata": {
            "tags": []
          },
          "execution_count": 28
        }
      ]
    },
    {
      "cell_type": "code",
      "metadata": {
        "id": "XTtlAyYutCGS",
        "colab_type": "code",
        "colab": {
          "base_uri": "https://localhost:8080/",
          "height": 35
        },
        "outputId": "6b1c36cb-460f-468e-c88b-89608e624112"
      },
      "source": [
        "Animals.copy()"
      ],
      "execution_count": null,
      "outputs": [
        {
          "output_type": "execute_result",
          "data": {
            "text/plain": [
              "['Rabbit', 'Elephant', 'Lion', 'Dog', 'Cat']"
            ]
          },
          "metadata": {
            "tags": []
          },
          "execution_count": 29
        }
      ]
    },
    {
      "cell_type": "code",
      "metadata": {
        "id": "RcN9_-_otI-n",
        "colab_type": "code",
        "colab": {
          "base_uri": "https://localhost:8080/",
          "height": 35
        },
        "outputId": "52d80640-6b39-40cd-94e1-d98ba01313fe"
      },
      "source": [
        "Animals.count(\"Lion\")"
      ],
      "execution_count": null,
      "outputs": [
        {
          "output_type": "execute_result",
          "data": {
            "text/plain": [
              "1"
            ]
          },
          "metadata": {
            "tags": []
          },
          "execution_count": 30
        }
      ]
    },
    {
      "cell_type": "code",
      "metadata": {
        "id": "PXwKBIPltPix",
        "colab_type": "code",
        "colab": {}
      },
      "source": [
        "Animals2 = [\"Mouse\"]"
      ],
      "execution_count": null,
      "outputs": []
    },
    {
      "cell_type": "code",
      "metadata": {
        "id": "E_1B9oVtuXo_",
        "colab_type": "code",
        "colab": {}
      },
      "source": [
        "Animals.extend(Animals2)"
      ],
      "execution_count": null,
      "outputs": []
    },
    {
      "cell_type": "code",
      "metadata": {
        "id": "QB4jzNB6ucQQ",
        "colab_type": "code",
        "colab": {
          "base_uri": "https://localhost:8080/",
          "height": 35
        },
        "outputId": "4ba45305-216f-4b29-d890-893aa9840170"
      },
      "source": [
        "Animals"
      ],
      "execution_count": null,
      "outputs": [
        {
          "output_type": "execute_result",
          "data": {
            "text/plain": [
              "['Rabbit', 'Elephant', 'Lion', 'Dog', 'Cat', 'Mouse']"
            ]
          },
          "metadata": {
            "tags": []
          },
          "execution_count": 33
        }
      ]
    },
    {
      "cell_type": "code",
      "metadata": {
        "id": "RpU-CFMaueQG",
        "colab_type": "code",
        "colab": {
          "base_uri": "https://localhost:8080/",
          "height": 35
        },
        "outputId": "dd2ee2c8-4c99-4f46-8600-38b03bb3338c"
      },
      "source": [
        "Animals.index(\"Cat\")"
      ],
      "execution_count": null,
      "outputs": [
        {
          "output_type": "execute_result",
          "data": {
            "text/plain": [
              "4"
            ]
          },
          "metadata": {
            "tags": []
          },
          "execution_count": 34
        }
      ]
    },
    {
      "cell_type": "code",
      "metadata": {
        "id": "G5zNQkLBuxBv",
        "colab_type": "code",
        "colab": {}
      },
      "source": [
        "Animals.insert(5,\"Tiger\")"
      ],
      "execution_count": null,
      "outputs": []
    },
    {
      "cell_type": "code",
      "metadata": {
        "id": "ruy3OL-4vU6b",
        "colab_type": "code",
        "colab": {
          "base_uri": "https://localhost:8080/",
          "height": 35
        },
        "outputId": "98d52bd0-f966-4560-8525-3e3f13b7b218"
      },
      "source": [
        "Animals"
      ],
      "execution_count": null,
      "outputs": [
        {
          "output_type": "execute_result",
          "data": {
            "text/plain": [
              "['Rabbit', 'Elephant', 'Lion', 'Dog', 'Cat', 'Tiger', 'Mouse']"
            ]
          },
          "metadata": {
            "tags": []
          },
          "execution_count": 37
        }
      ]
    },
    {
      "cell_type": "code",
      "metadata": {
        "id": "riaYc0YbvXt5",
        "colab_type": "code",
        "colab": {
          "base_uri": "https://localhost:8080/",
          "height": 35
        },
        "outputId": "b727703c-9b54-4e50-cfa0-1e481043cd92"
      },
      "source": [
        "Animals.pop()"
      ],
      "execution_count": null,
      "outputs": [
        {
          "output_type": "execute_result",
          "data": {
            "text/plain": [
              "'Mouse'"
            ]
          },
          "metadata": {
            "tags": []
          },
          "execution_count": 38
        }
      ]
    },
    {
      "cell_type": "code",
      "metadata": {
        "id": "c35oTX0UvdCe",
        "colab_type": "code",
        "colab": {}
      },
      "source": [
        "Animals.remove(\"Elephant\")"
      ],
      "execution_count": null,
      "outputs": []
    },
    {
      "cell_type": "code",
      "metadata": {
        "id": "YN3BaYG3vi4s",
        "colab_type": "code",
        "colab": {
          "base_uri": "https://localhost:8080/",
          "height": 35
        },
        "outputId": "b5ac6006-bbc5-4646-9c9a-d7ebffdc5e52"
      },
      "source": [
        "Animals"
      ],
      "execution_count": null,
      "outputs": [
        {
          "output_type": "execute_result",
          "data": {
            "text/plain": [
              "['Rabbit', 'Lion', 'Dog', 'Cat', 'Tiger']"
            ]
          },
          "metadata": {
            "tags": []
          },
          "execution_count": 40
        }
      ]
    },
    {
      "cell_type": "code",
      "metadata": {
        "id": "8kdB1lX1vkj6",
        "colab_type": "code",
        "colab": {}
      },
      "source": [
        "Animals.reverse()"
      ],
      "execution_count": null,
      "outputs": []
    },
    {
      "cell_type": "code",
      "metadata": {
        "id": "M1g5sER4wCPf",
        "colab_type": "code",
        "colab": {
          "base_uri": "https://localhost:8080/",
          "height": 35
        },
        "outputId": "b2a95b1f-9370-4028-8797-8bdc489d1c47"
      },
      "source": [
        "Animals"
      ],
      "execution_count": null,
      "outputs": [
        {
          "output_type": "execute_result",
          "data": {
            "text/plain": [
              "['Tiger', 'Cat', 'Dog', 'Lion', 'Rabbit']"
            ]
          },
          "metadata": {
            "tags": []
          },
          "execution_count": 42
        }
      ]
    },
    {
      "cell_type": "code",
      "metadata": {
        "id": "XatSike6wER5",
        "colab_type": "code",
        "colab": {}
      },
      "source": [
        "Animals.sort()"
      ],
      "execution_count": null,
      "outputs": []
    },
    {
      "cell_type": "code",
      "metadata": {
        "id": "QlpyG6R2wJZs",
        "colab_type": "code",
        "colab": {
          "base_uri": "https://localhost:8080/",
          "height": 35
        },
        "outputId": "1fd5ab09-7536-405e-d746-c94273307ae5"
      },
      "source": [
        "Animals"
      ],
      "execution_count": null,
      "outputs": [
        {
          "output_type": "execute_result",
          "data": {
            "text/plain": [
              "['Cat', 'Dog', 'Lion', 'Rabbit', 'Tiger']"
            ]
          },
          "metadata": {
            "tags": []
          },
          "execution_count": 44
        }
      ]
    },
    {
      "cell_type": "code",
      "metadata": {
        "id": "YmcoiVlnwKuH",
        "colab_type": "code",
        "colab": {}
      },
      "source": [
        "Animals.clear()"
      ],
      "execution_count": null,
      "outputs": []
    },
    {
      "cell_type": "code",
      "metadata": {
        "id": "kLR3dRwswSjT",
        "colab_type": "code",
        "colab": {
          "base_uri": "https://localhost:8080/",
          "height": 35
        },
        "outputId": "ffaba80d-ad81-4b41-fafc-83ea842b8c03"
      },
      "source": [
        "Animals"
      ],
      "execution_count": null,
      "outputs": [
        {
          "output_type": "execute_result",
          "data": {
            "text/plain": [
              "[]"
            ]
          },
          "metadata": {
            "tags": []
          },
          "execution_count": 46
        }
      ]
    },
    {
      "cell_type": "code",
      "metadata": {
        "id": "IwjdKhO-wT-W",
        "colab_type": "code",
        "colab": {}
      },
      "source": [
        ""
      ],
      "execution_count": null,
      "outputs": []
    },
    {
      "cell_type": "markdown",
      "metadata": {
        "id": "VTx7Ads4wcQL",
        "colab_type": "text"
      },
      "source": [
        "#2.DICTIONARY AND ITS DEFAULT FUNCTIONS"
      ]
    },
    {
      "cell_type": "code",
      "metadata": {
        "id": "4I50rUqFwm51",
        "colab_type": "code",
        "colab": {}
      },
      "source": [
        "Dictionary = {\"Dairy Milk\" : \"It is a chocolate\",\n",
        "              \"Apple\" : \"It is a fruit\",\n",
        "              \"Teddy Bear\" : \"It is a toy\"}"
      ],
      "execution_count": null,
      "outputs": []
    },
    {
      "cell_type": "code",
      "metadata": {
        "id": "w3V4Ql8WyotQ",
        "colab_type": "code",
        "colab": {
          "base_uri": "https://localhost:8080/",
          "height": 35
        },
        "outputId": "76045aa9-6673-4fe7-9d02-4a6bdad794d6"
      },
      "source": [
        "Dictionary[\"Dairy Milk\"]"
      ],
      "execution_count": null,
      "outputs": [
        {
          "output_type": "execute_result",
          "data": {
            "text/plain": [
              "'It is a chocolate'"
            ]
          },
          "metadata": {
            "tags": []
          },
          "execution_count": 48
        }
      ]
    },
    {
      "cell_type": "code",
      "metadata": {
        "id": "MVI4TNYAyys2",
        "colab_type": "code",
        "colab": {
          "base_uri": "https://localhost:8080/",
          "height": 69
        },
        "outputId": "36e2fb9b-d225-43c7-8a2f-7703e020f82d"
      },
      "source": [
        "Dictionary.copy()"
      ],
      "execution_count": null,
      "outputs": [
        {
          "output_type": "execute_result",
          "data": {
            "text/plain": [
              "{'Apple': 'It is a fruit',\n",
              " 'Dairy Milk': 'It is a chocolate',\n",
              " 'Teddy Bear': 'It is a toy'}"
            ]
          },
          "metadata": {
            "tags": []
          },
          "execution_count": 52
        }
      ]
    },
    {
      "cell_type": "code",
      "metadata": {
        "id": "ZKzmXOsOzq1w",
        "colab_type": "code",
        "colab": {
          "base_uri": "https://localhost:8080/",
          "height": 35
        },
        "outputId": "c2830b6e-1a4e-44e8-e05d-2eb6de81db83"
      },
      "source": [
        "Dictionary.get(\"Apple\")"
      ],
      "execution_count": null,
      "outputs": [
        {
          "output_type": "execute_result",
          "data": {
            "text/plain": [
              "'It is a fruit'"
            ]
          },
          "metadata": {
            "tags": []
          },
          "execution_count": 55
        }
      ]
    },
    {
      "cell_type": "code",
      "metadata": {
        "id": "4p8GZukD0HTy",
        "colab_type": "code",
        "colab": {
          "base_uri": "https://localhost:8080/",
          "height": 35
        },
        "outputId": "f67bcb99-da92-4467-b7e6-de5eeb1d56a4"
      },
      "source": [
        "Dictionary.items()\n"
      ],
      "execution_count": null,
      "outputs": [
        {
          "output_type": "execute_result",
          "data": {
            "text/plain": [
              "dict_items([('Dairy Milk', 'It is a chocolate'), ('Apple', 'It is a fruit'), ('Teddy Bear', 'It is a toy')])"
            ]
          },
          "metadata": {
            "tags": []
          },
          "execution_count": 56
        }
      ]
    },
    {
      "cell_type": "code",
      "metadata": {
        "id": "0KlitmQ90JKw",
        "colab_type": "code",
        "colab": {
          "base_uri": "https://localhost:8080/",
          "height": 35
        },
        "outputId": "76c3c76f-1752-4234-cda5-7741a01d6a5b"
      },
      "source": [
        "Dictionary.keys()"
      ],
      "execution_count": null,
      "outputs": [
        {
          "output_type": "execute_result",
          "data": {
            "text/plain": [
              "dict_keys(['Dairy Milk', 'Apple', 'Teddy Bear'])"
            ]
          },
          "metadata": {
            "tags": []
          },
          "execution_count": 57
        }
      ]
    },
    {
      "cell_type": "code",
      "metadata": {
        "id": "lbSrvPRc0ZoP",
        "colab_type": "code",
        "colab": {
          "base_uri": "https://localhost:8080/",
          "height": 35
        },
        "outputId": "3e21f17d-8142-4e5c-cd9b-edafb4aa0a1f"
      },
      "source": [
        "Dictionary.pop(\"Teddy Bear\")"
      ],
      "execution_count": null,
      "outputs": [
        {
          "output_type": "execute_result",
          "data": {
            "text/plain": [
              "'It is a toy'"
            ]
          },
          "metadata": {
            "tags": []
          },
          "execution_count": 59
        }
      ]
    },
    {
      "cell_type": "code",
      "metadata": {
        "id": "KzvooQRF0ffE",
        "colab_type": "code",
        "colab": {
          "base_uri": "https://localhost:8080/",
          "height": 35
        },
        "outputId": "c47d8184-abaa-4a65-e0fe-4e138a3e45cc"
      },
      "source": [
        "Dictionary.popitem()"
      ],
      "execution_count": null,
      "outputs": [
        {
          "output_type": "execute_result",
          "data": {
            "text/plain": [
              "('Apple', 'It is a fruit')"
            ]
          },
          "metadata": {
            "tags": []
          },
          "execution_count": 60
        }
      ]
    },
    {
      "cell_type": "code",
      "metadata": {
        "id": "JPlt5Fsn01ro",
        "colab_type": "code",
        "colab": {
          "base_uri": "https://localhost:8080/",
          "height": 35
        },
        "outputId": "ceb5c954-ad83-46c5-82f8-b84f4fb78889"
      },
      "source": [
        "Dictionary.setdefault(\"Dairy Milk\")"
      ],
      "execution_count": null,
      "outputs": [
        {
          "output_type": "execute_result",
          "data": {
            "text/plain": [
              "'It is a chocolate'"
            ]
          },
          "metadata": {
            "tags": []
          },
          "execution_count": 62
        }
      ]
    },
    {
      "cell_type": "code",
      "metadata": {
        "id": "JeRk2d701fuy",
        "colab_type": "code",
        "colab": {}
      },
      "source": [
        "Dictionary2 = {\"Sofa\": \"It is used to sit\"}"
      ],
      "execution_count": null,
      "outputs": []
    },
    {
      "cell_type": "code",
      "metadata": {
        "id": "H8S2Crfm25pT",
        "colab_type": "code",
        "colab": {}
      },
      "source": [
        "Dictionary.update(Dictionary2)"
      ],
      "execution_count": null,
      "outputs": []
    },
    {
      "cell_type": "code",
      "metadata": {
        "id": "nLtA0s3F2_mq",
        "colab_type": "code",
        "colab": {
          "base_uri": "https://localhost:8080/",
          "height": 35
        },
        "outputId": "7762e63b-cca9-4307-954c-4797fd0a4531"
      },
      "source": [
        "Dictionary"
      ],
      "execution_count": null,
      "outputs": [
        {
          "output_type": "execute_result",
          "data": {
            "text/plain": [
              "{'Dairy Milk': 'It is a chocolate', 'Sofa': 'It is used to sit'}"
            ]
          },
          "metadata": {
            "tags": []
          },
          "execution_count": 65
        }
      ]
    },
    {
      "cell_type": "code",
      "metadata": {
        "id": "SpB5fC1i3Bct",
        "colab_type": "code",
        "colab": {
          "base_uri": "https://localhost:8080/",
          "height": 35
        },
        "outputId": "375027a0-2c47-4a9f-f068-a75404ddae07"
      },
      "source": [
        "Dictionary.values()"
      ],
      "execution_count": null,
      "outputs": [
        {
          "output_type": "execute_result",
          "data": {
            "text/plain": [
              "dict_values(['It is a chocolate', 'It is used to sit'])"
            ]
          },
          "metadata": {
            "tags": []
          },
          "execution_count": 66
        }
      ]
    },
    {
      "cell_type": "code",
      "metadata": {
        "id": "EYRMfgV13Lgf",
        "colab_type": "code",
        "colab": {}
      },
      "source": [
        "Dictionary.clear()"
      ],
      "execution_count": null,
      "outputs": []
    },
    {
      "cell_type": "code",
      "metadata": {
        "id": "GZuF5epZ3PRN",
        "colab_type": "code",
        "colab": {
          "base_uri": "https://localhost:8080/",
          "height": 35
        },
        "outputId": "c9fbcc45-4800-4f98-9397-99d1b0e8807b"
      },
      "source": [
        "Dictionary"
      ],
      "execution_count": null,
      "outputs": [
        {
          "output_type": "execute_result",
          "data": {
            "text/plain": [
              "{}"
            ]
          },
          "metadata": {
            "tags": []
          },
          "execution_count": 68
        }
      ]
    },
    {
      "cell_type": "code",
      "metadata": {
        "id": "0tECVkVs3QkP",
        "colab_type": "code",
        "colab": {}
      },
      "source": [
        ""
      ],
      "execution_count": null,
      "outputs": []
    },
    {
      "cell_type": "markdown",
      "metadata": {
        "id": "lTYoI6OX3-_w",
        "colab_type": "text"
      },
      "source": [
        "# 3.SETS AND ITS FUNCTIONS\n"
      ]
    },
    {
      "cell_type": "code",
      "metadata": {
        "id": "SITngQDk5FRn",
        "colab_type": "code",
        "colab": {}
      },
      "source": [
        " College = {\"Students\", \"Lecturers\", \"Benches\", \"black board\", \"Benches\"}"
      ],
      "execution_count": null,
      "outputs": []
    },
    {
      "cell_type": "code",
      "metadata": {
        "id": "g5aVXtKrTF_J",
        "colab_type": "code",
        "colab": {}
      },
      "source": [
        " school = {\"students\", \"teachers\", \"benches\", \"blackboard\", \"teachers\"}"
      ],
      "execution_count": null,
      "outputs": []
    },
    {
      "cell_type": "code",
      "metadata": {
        "id": "506Jb_D_Ozh2",
        "colab_type": "code",
        "colab": {
          "base_uri": "https://localhost:8080/",
          "height": 35
        },
        "outputId": "2b27ad35-bcb4-4c3c-c01f-fd9851db2f64"
      },
      "source": [
        "College.copy()"
      ],
      "execution_count": null,
      "outputs": [
        {
          "output_type": "execute_result",
          "data": {
            "text/plain": [
              "{'Benches', 'Lecturers', 'Students', 'black board'}"
            ]
          },
          "metadata": {
            "tags": []
          },
          "execution_count": 76
        }
      ]
    },
    {
      "cell_type": "code",
      "metadata": {
        "id": "sIiXrzwKPcnd",
        "colab_type": "code",
        "colab": {}
      },
      "source": [
        "College.add(\"Records\")"
      ],
      "execution_count": null,
      "outputs": []
    },
    {
      "cell_type": "code",
      "metadata": {
        "id": "xx-NaVsxRnJq",
        "colab_type": "code",
        "colab": {
          "base_uri": "https://localhost:8080/",
          "height": 35
        },
        "outputId": "87ebe7b8-30dc-4ac4-8e6d-236b819612bb"
      },
      "source": [
        "College"
      ],
      "execution_count": null,
      "outputs": [
        {
          "output_type": "execute_result",
          "data": {
            "text/plain": [
              "{'Benches', 'Lecturers', 'Records', 'Students', 'black board'}"
            ]
          },
          "metadata": {
            "tags": []
          },
          "execution_count": 79
        }
      ]
    },
    {
      "cell_type": "code",
      "metadata": {
        "id": "uv0XyqV-RzWp",
        "colab_type": "code",
        "colab": {
          "base_uri": "https://localhost:8080/",
          "height": 35
        },
        "outputId": "728d51b9-e89f-414d-e3e7-f2cddfbe37b2"
      },
      "source": [
        "College.pop()"
      ],
      "execution_count": null,
      "outputs": [
        {
          "output_type": "execute_result",
          "data": {
            "text/plain": [
              "'black board'"
            ]
          },
          "metadata": {
            "tags": []
          },
          "execution_count": 82
        }
      ]
    },
    {
      "cell_type": "code",
      "metadata": {
        "id": "RC0M1BNrR2r6",
        "colab_type": "code",
        "colab": {}
      },
      "source": [
        "College.update(\"pens\")"
      ],
      "execution_count": null,
      "outputs": []
    },
    {
      "cell_type": "code",
      "metadata": {
        "id": "GgkjQjEOSbKy",
        "colab_type": "code",
        "colab": {}
      },
      "source": [
        "College.discard(\"Benches\")"
      ],
      "execution_count": null,
      "outputs": []
    },
    {
      "cell_type": "code",
      "metadata": {
        "id": "OM8Iw34mSgF4",
        "colab_type": "code",
        "colab": {
          "base_uri": "https://localhost:8080/",
          "height": 35
        },
        "outputId": "9d668dd0-96d9-4afe-b516-03f6daad83ed"
      },
      "source": [
        "College"
      ],
      "execution_count": null,
      "outputs": [
        {
          "output_type": "execute_result",
          "data": {
            "text/plain": [
              "{'Lecturers', 'Records', 'Students', 'e', 'n', 'p', 's'}"
            ]
          },
          "metadata": {
            "tags": []
          },
          "execution_count": 91
        }
      ]
    },
    {
      "cell_type": "code",
      "metadata": {
        "id": "FhsP-2lLS5gU",
        "colab_type": "code",
        "colab": {
          "base_uri": "https://localhost:8080/",
          "height": 35
        },
        "outputId": "1cd12bb3-f035-48e3-9f77-214fb231bdf3"
      },
      "source": [
        "College.intersection(school)"
      ],
      "execution_count": null,
      "outputs": [
        {
          "output_type": "execute_result",
          "data": {
            "text/plain": [
              "set()"
            ]
          },
          "metadata": {
            "tags": []
          },
          "execution_count": 95
        }
      ]
    },
    {
      "cell_type": "code",
      "metadata": {
        "id": "xNOdl_C0T639",
        "colab_type": "code",
        "colab": {
          "base_uri": "https://localhost:8080/",
          "height": 35
        },
        "outputId": "3da94dca-d93a-438c-8263-5243c60bfe8f"
      },
      "source": [
        "school.difference(College)"
      ],
      "execution_count": null,
      "outputs": [
        {
          "output_type": "execute_result",
          "data": {
            "text/plain": [
              "{'benches', 'blackboard', 'students', 'teachers'}"
            ]
          },
          "metadata": {
            "tags": []
          },
          "execution_count": 96
        }
      ]
    },
    {
      "cell_type": "code",
      "metadata": {
        "id": "p0POM6-PUBaI",
        "colab_type": "code",
        "colab": {
          "base_uri": "https://localhost:8080/",
          "height": 35
        },
        "outputId": "2d9f04ec-6797-4a98-f10f-99fca5e91f93"
      },
      "source": [
        "school.isdisjoint(College)"
      ],
      "execution_count": null,
      "outputs": [
        {
          "output_type": "execute_result",
          "data": {
            "text/plain": [
              "True"
            ]
          },
          "metadata": {
            "tags": []
          },
          "execution_count": 97
        }
      ]
    },
    {
      "cell_type": "code",
      "metadata": {
        "id": "jFB5YckNUIWW",
        "colab_type": "code",
        "colab": {
          "base_uri": "https://localhost:8080/",
          "height": 208
        },
        "outputId": "2cfffe9a-e269-4d17-fdc5-42c2416192b5"
      },
      "source": [
        "school.symmetric_difference(College)"
      ],
      "execution_count": null,
      "outputs": [
        {
          "output_type": "execute_result",
          "data": {
            "text/plain": [
              "{'Lecturers',\n",
              " 'Records',\n",
              " 'Students',\n",
              " 'benches',\n",
              " 'blackboard',\n",
              " 'e',\n",
              " 'n',\n",
              " 'p',\n",
              " 's',\n",
              " 'students',\n",
              " 'teachers'}"
            ]
          },
          "metadata": {
            "tags": []
          },
          "execution_count": 98
        }
      ]
    },
    {
      "cell_type": "code",
      "metadata": {
        "id": "QGSfJ7M3UNXR",
        "colab_type": "code",
        "colab": {
          "base_uri": "https://localhost:8080/",
          "height": 208
        },
        "outputId": "16577281-cab1-4b1a-df86-e15cabb3bc28"
      },
      "source": [
        "College.union(school)"
      ],
      "execution_count": null,
      "outputs": [
        {
          "output_type": "execute_result",
          "data": {
            "text/plain": [
              "{'Lecturers',\n",
              " 'Records',\n",
              " 'Students',\n",
              " 'benches',\n",
              " 'blackboard',\n",
              " 'e',\n",
              " 'n',\n",
              " 'p',\n",
              " 's',\n",
              " 'students',\n",
              " 'teachers'}"
            ]
          },
          "metadata": {
            "tags": []
          },
          "execution_count": 99
        }
      ]
    },
    {
      "cell_type": "code",
      "metadata": {
        "id": "SKjQPfljUX6j",
        "colab_type": "code",
        "colab": {
          "base_uri": "https://localhost:8080/",
          "height": 35
        },
        "outputId": "45119fb5-32ae-49e2-d0df-f42e91386490"
      },
      "source": [
        "College.issuperset(school)"
      ],
      "execution_count": null,
      "outputs": [
        {
          "output_type": "execute_result",
          "data": {
            "text/plain": [
              "False"
            ]
          },
          "metadata": {
            "tags": []
          },
          "execution_count": 100
        }
      ]
    },
    {
      "cell_type": "code",
      "metadata": {
        "id": "4raAsB8qUcjE",
        "colab_type": "code",
        "colab": {
          "base_uri": "https://localhost:8080/",
          "height": 35
        },
        "outputId": "3928dd77-1f10-4021-c4e5-e31947005397"
      },
      "source": [
        "College.issubset(school)"
      ],
      "execution_count": null,
      "outputs": [
        {
          "output_type": "execute_result",
          "data": {
            "text/plain": [
              "False"
            ]
          },
          "metadata": {
            "tags": []
          },
          "execution_count": 101
        }
      ]
    },
    {
      "cell_type": "code",
      "metadata": {
        "id": "0EQ_CFFjUgt-",
        "colab_type": "code",
        "colab": {}
      },
      "source": [
        "school.remove(\"teachers\")"
      ],
      "execution_count": null,
      "outputs": []
    },
    {
      "cell_type": "code",
      "metadata": {
        "id": "65OqYB51UwAF",
        "colab_type": "code",
        "colab": {}
      },
      "source": [
        "school.symmetric_difference_update(College)"
      ],
      "execution_count": null,
      "outputs": []
    },
    {
      "cell_type": "code",
      "metadata": {
        "id": "vPsaDndIVAvX",
        "colab_type": "code",
        "colab": {
          "base_uri": "https://localhost:8080/",
          "height": 191
        },
        "outputId": "7840fd9e-9bd4-4d7b-f08c-005205ee887f"
      },
      "source": [
        "school"
      ],
      "execution_count": null,
      "outputs": [
        {
          "output_type": "execute_result",
          "data": {
            "text/plain": [
              "{'Lecturers',\n",
              " 'Records',\n",
              " 'Students',\n",
              " 'benches',\n",
              " 'blackboard',\n",
              " 'e',\n",
              " 'n',\n",
              " 'p',\n",
              " 's',\n",
              " 'students'}"
            ]
          },
          "metadata": {
            "tags": []
          },
          "execution_count": 104
        }
      ]
    },
    {
      "cell_type": "code",
      "metadata": {
        "id": "uPQZijWGVCht",
        "colab_type": "code",
        "colab": {}
      },
      "source": [
        "school.clear()"
      ],
      "execution_count": null,
      "outputs": []
    },
    {
      "cell_type": "code",
      "metadata": {
        "id": "RUJ0wwotXYDs",
        "colab_type": "code",
        "colab": {
          "base_uri": "https://localhost:8080/",
          "height": 35
        },
        "outputId": "a9774999-096c-47e8-b90a-58f302e3defc"
      },
      "source": [
        "school"
      ],
      "execution_count": null,
      "outputs": [
        {
          "output_type": "execute_result",
          "data": {
            "text/plain": [
              "set()"
            ]
          },
          "metadata": {
            "tags": []
          },
          "execution_count": 107
        }
      ]
    },
    {
      "cell_type": "code",
      "metadata": {
        "id": "cYZ8i-WhXb_A",
        "colab_type": "code",
        "colab": {}
      },
      "source": [
        ""
      ],
      "execution_count": null,
      "outputs": []
    },
    {
      "cell_type": "markdown",
      "metadata": {
        "id": "mOQCacxMXdhG",
        "colab_type": "text"
      },
      "source": [
        "# 4.TUPLE AND DEFAULT METHODS"
      ]
    },
    {
      "cell_type": "code",
      "metadata": {
        "id": "jn_ap9P7XuFf",
        "colab_type": "code",
        "colab": {}
      },
      "source": [
        "num = (1,2,3,7,10,15,15,23,3,15)"
      ],
      "execution_count": null,
      "outputs": []
    },
    {
      "cell_type": "code",
      "metadata": {
        "id": "BXurptnibWb5",
        "colab_type": "code",
        "colab": {
          "base_uri": "https://localhost:8080/",
          "height": 35
        },
        "outputId": "c05c4121-5ec6-4cd2-a6de-3bd9591f22d8"
      },
      "source": [
        "num.count(15)"
      ],
      "execution_count": null,
      "outputs": [
        {
          "output_type": "execute_result",
          "data": {
            "text/plain": [
              "3"
            ]
          },
          "metadata": {
            "tags": []
          },
          "execution_count": 110
        }
      ]
    },
    {
      "cell_type": "code",
      "metadata": {
        "id": "fhKVPQDQbiVn",
        "colab_type": "code",
        "colab": {
          "base_uri": "https://localhost:8080/",
          "height": 35
        },
        "outputId": "324dc68f-41b4-4380-a761-d1f6b404e416"
      },
      "source": [
        "num.index(3,8)"
      ],
      "execution_count": null,
      "outputs": [
        {
          "output_type": "execute_result",
          "data": {
            "text/plain": [
              "8"
            ]
          },
          "metadata": {
            "tags": []
          },
          "execution_count": 111
        }
      ]
    },
    {
      "cell_type": "code",
      "metadata": {
        "id": "5exlLKwJcvjc",
        "colab_type": "code",
        "colab": {
          "base_uri": "https://localhost:8080/",
          "height": 35
        },
        "outputId": "18110b7f-5565-4b5f-f0ab-b4907269c1e6"
      },
      "source": [
        "num"
      ],
      "execution_count": null,
      "outputs": [
        {
          "output_type": "execute_result",
          "data": {
            "text/plain": [
              "(1, 2, 3, 7, 10, 15, 15, 23, 3, 15)"
            ]
          },
          "metadata": {
            "tags": []
          },
          "execution_count": 112
        }
      ]
    },
    {
      "cell_type": "code",
      "metadata": {
        "id": "pcdTfECMcxeP",
        "colab_type": "code",
        "colab": {}
      },
      "source": [
        ""
      ],
      "execution_count": null,
      "outputs": []
    },
    {
      "cell_type": "markdown",
      "metadata": {
        "id": "l7hNYqMzcz3Y",
        "colab_type": "text"
      },
      "source": [
        "# STRING AND DEFAULT METHODS"
      ]
    },
    {
      "cell_type": "code",
      "metadata": {
        "id": "n59Ln-3Aeo_G",
        "colab_type": "code",
        "colab": {}
      },
      "source": [
        "var1 = \"I am learning Python\""
      ],
      "execution_count": null,
      "outputs": []
    },
    {
      "cell_type": "code",
      "metadata": {
        "id": "NNo4VI8sjf7b",
        "colab_type": "code",
        "colab": {}
      },
      "source": [
        "var2 = \"Letsupgrade is organizing it\""
      ],
      "execution_count": null,
      "outputs": []
    },
    {
      "cell_type": "code",
      "metadata": {
        "id": "0EIz7If_js78",
        "colab_type": "code",
        "colab": {
          "base_uri": "https://localhost:8080/",
          "height": 35
        },
        "outputId": "1e58892c-9701-4b9e-d61b-041d3d8ecbe3"
      },
      "source": [
        "var1.count(\"a\")"
      ],
      "execution_count": null,
      "outputs": [
        {
          "output_type": "execute_result",
          "data": {
            "text/plain": [
              "2"
            ]
          },
          "metadata": {
            "tags": []
          },
          "execution_count": 115
        }
      ]
    },
    {
      "cell_type": "code",
      "metadata": {
        "id": "AQXLgc6kj-bf",
        "colab_type": "code",
        "colab": {
          "base_uri": "https://localhost:8080/",
          "height": 35
        },
        "outputId": "0584c229-bd2d-4794-869c-60ece3b52417"
      },
      "source": [
        "var1.upper()"
      ],
      "execution_count": null,
      "outputs": [
        {
          "output_type": "execute_result",
          "data": {
            "text/plain": [
              "'HELLO I AM LEARNING PYTHON'"
            ]
          },
          "metadata": {
            "tags": []
          },
          "execution_count": 116
        }
      ]
    },
    {
      "cell_type": "code",
      "metadata": {
        "id": "7L3t0Y65kbR1",
        "colab_type": "code",
        "colab": {
          "base_uri": "https://localhost:8080/",
          "height": 35
        },
        "outputId": "7501b5e3-dcc7-4add-b088-d9083fb0cb51"
      },
      "source": [
        "var2.swapcase()"
      ],
      "execution_count": null,
      "outputs": [
        {
          "output_type": "execute_result",
          "data": {
            "text/plain": [
              "'lETSUPGRADE IS ORGANIZING IT'"
            ]
          },
          "metadata": {
            "tags": []
          },
          "execution_count": 120
        }
      ]
    },
    {
      "cell_type": "code",
      "metadata": {
        "id": "-UinVs3KkhRM",
        "colab_type": "code",
        "colab": {
          "base_uri": "https://localhost:8080/",
          "height": 35
        },
        "outputId": "55549cc0-8d9a-4262-d5f8-13921acf7eed"
      },
      "source": [
        "var2.lower()"
      ],
      "execution_count": null,
      "outputs": [
        {
          "output_type": "execute_result",
          "data": {
            "text/plain": [
              "'letsupgrade is organizing it'"
            ]
          },
          "metadata": {
            "tags": []
          },
          "execution_count": 121
        }
      ]
    },
    {
      "cell_type": "code",
      "metadata": {
        "id": "kQ8vimAMk7u_",
        "colab_type": "code",
        "colab": {
          "base_uri": "https://localhost:8080/",
          "height": 35
        },
        "outputId": "006f3aec-7d43-4cbf-edf8-896276201420"
      },
      "source": [
        "var1.isprintable()"
      ],
      "execution_count": null,
      "outputs": [
        {
          "output_type": "execute_result",
          "data": {
            "text/plain": [
              "True"
            ]
          },
          "metadata": {
            "tags": []
          },
          "execution_count": 123
        }
      ]
    },
    {
      "cell_type": "code",
      "metadata": {
        "id": "hszR4EjulBWz",
        "colab_type": "code",
        "colab": {
          "base_uri": "https://localhost:8080/",
          "height": 35
        },
        "outputId": "a93d99c3-0929-483b-b92f-ab2c9265395b"
      },
      "source": [
        "var2.isalpha()"
      ],
      "execution_count": null,
      "outputs": [
        {
          "output_type": "execute_result",
          "data": {
            "text/plain": [
              "False"
            ]
          },
          "metadata": {
            "tags": []
          },
          "execution_count": 124
        }
      ]
    },
    {
      "cell_type": "code",
      "metadata": {
        "id": "kpmkwSfZlKbf",
        "colab_type": "code",
        "colab": {
          "base_uri": "https://localhost:8080/",
          "height": 35
        },
        "outputId": "97dc727d-ae87-485b-ec34-2a2f52c3c3f6"
      },
      "source": [
        "var1.islower()"
      ],
      "execution_count": null,
      "outputs": [
        {
          "output_type": "execute_result",
          "data": {
            "text/plain": [
              "False"
            ]
          },
          "metadata": {
            "tags": []
          },
          "execution_count": 125
        }
      ]
    },
    {
      "cell_type": "code",
      "metadata": {
        "id": "avbbrHJ1lP43",
        "colab_type": "code",
        "colab": {
          "base_uri": "https://localhost:8080/",
          "height": 35
        },
        "outputId": "eace21d8-207d-46b5-80c7-0f993eed1e6e"
      },
      "source": [
        "var2.isupper()"
      ],
      "execution_count": null,
      "outputs": [
        {
          "output_type": "execute_result",
          "data": {
            "text/plain": [
              "False"
            ]
          },
          "metadata": {
            "tags": []
          },
          "execution_count": 126
        }
      ]
    },
    {
      "cell_type": "code",
      "metadata": {
        "id": "eqXvGOMPlSl5",
        "colab_type": "code",
        "colab": {
          "base_uri": "https://localhost:8080/",
          "height": 55
        },
        "outputId": "77ac6d36-32f1-45a8-a265-2806d8a24bc7"
      },
      "source": [
        "var1.join(var2)"
      ],
      "execution_count": null,
      "outputs": [
        {
          "output_type": "execute_result",
          "data": {
            "text/plain": [
              "'LHello I am learning PythoneHello I am learning PythontHello I am learning PythonsHello I am learning PythonuHello I am learning PythonpHello I am learning PythongHello I am learning PythonrHello I am learning PythonaHello I am learning PythondHello I am learning PythoneHello I am learning Python Hello I am learning PythoniHello I am learning PythonsHello I am learning Python Hello I am learning PythonoHello I am learning PythonrHello I am learning PythongHello I am learning PythonaHello I am learning PythonnHello I am learning PythoniHello I am learning PythonzHello I am learning PythoniHello I am learning PythonnHello I am learning PythongHello I am learning Python Hello I am learning PythoniHello I am learning Pythont'"
            ]
          },
          "metadata": {
            "tags": []
          },
          "execution_count": 127
        }
      ]
    },
    {
      "cell_type": "code",
      "metadata": {
        "id": "_C9kxOmulaXM",
        "colab_type": "code",
        "colab": {
          "base_uri": "https://localhost:8080/",
          "height": 35
        },
        "outputId": "e9194996-d5e7-4fe8-c89b-af1ebebce04c"
      },
      "source": [
        "var2.rfind(\"Letsupgrade\")"
      ],
      "execution_count": null,
      "outputs": [
        {
          "output_type": "execute_result",
          "data": {
            "text/plain": [
              "0"
            ]
          },
          "metadata": {
            "tags": []
          },
          "execution_count": 128
        }
      ]
    }
  ]
}
